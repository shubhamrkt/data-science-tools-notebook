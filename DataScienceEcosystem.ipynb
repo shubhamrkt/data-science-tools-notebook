{
 "cells": [
  {
   "cell_type": "markdown",
   "id": "ac8f91dd-a9a6-4f5c-8e9b-6f495bc0706c",
   "metadata": {},
   "source": [
    "# Data Science Tools and Ecosystem"
   ]
  },
  {
   "cell_type": "markdown",
   "id": "7d0124c6-e4c6-448a-95a0-8b5ea62eec84",
   "metadata": {},
   "source": [
    "In this notebook, Data Science Tools and Ecosystem are summarized.\r\n"
   ]
  },
  {
   "cell_type": "markdown",
   "id": "ad0f0ed7-21f8-4430-a939-09c87c4cad5e",
   "metadata": {},
   "source": [
    " Some of the popular languages that Data Scientists use are:\r\n",
    "\r\n",
    "1. Python  \r\n",
    "2. R  \r\n",
    "3. SQL  \r\n",
    "4. Julia  \r\n",
    "5. Scala\r\n"
   ]
  },
  {
   "cell_type": "markdown",
   "id": "84eeaed0-30f2-4d72-b210-bdd58242862c",
   "metadata": {},
   "source": [
    "Some of the commonly used libraries used by Data Scientists include:\r\n",
    "\r\n",
    "1. Pandas  \r\n",
    "2. NumPy  \r\n",
    "3. Matplotlib  \r\n",
    "4. Scikit-learn  \r\n",
    "5. TensorFlow\r\n"
   ]
  },
  {
   "cell_type": "code",
   "execution_count": null,
   "id": "905b2257-7c79-4393-89e9-a079963e1304",
   "metadata": {},
   "outputs": [],
   "source": []
  },
  {
   "cell_type": "markdown",
   "id": "cebbac33-c4ed-47c8-81f0-d4926419c2cf",
   "metadata": {},
   "source": [
    "| Data Science Tools        |\r\n",
    "|---------------------------|\r\n",
    "| Jupyter Notebook          |\r\n",
    "| RStudio                   |\r\n",
    "| Apache Zeppelin           |\r\n"
   ]
  },
  {
   "cell_type": "markdown",
   "id": "0bc97796-b805-46a4-8fee-b1cb7bbdb918",
   "metadata": {},
   "source": [
    "### Below are a few examples of evaluating arithmetic expressions in Python.\r\n"
   ]
  },
  {
   "cell_type": "code",
   "execution_count": 10,
   "id": "c20a1b68-b34d-4ba1-be0d-4e7827aa14b5",
   "metadata": {},
   "outputs": [
    {
     "data": {
      "text/plain": [
       "17"
      ]
     },
     "execution_count": 10,
     "metadata": {},
     "output_type": "execute_result"
    }
   ],
   "source": [
    "# This is a simple arithmetic expression to multiply then add integers\n",
    "(3 * 4) + 5\n"
   ]
  },
  {
   "cell_type": "code",
   "execution_count": 12,
   "id": "b3af7cd8-8bbc-44ff-bfcc-9be7c92c83ab",
   "metadata": {},
   "outputs": [
    {
     "data": {
      "text/plain": [
       "3.3333333333333335"
      ]
     },
     "execution_count": 12,
     "metadata": {},
     "output_type": "execute_result"
    }
   ],
   "source": [
    "# This will convert 200 minutes to hours by dividing by 60\n",
    "200 / 60\n"
   ]
  },
  {
   "cell_type": "markdown",
   "id": "91234dd5-d873-489d-869d-49482e39abc9",
   "metadata": {},
   "source": [
    "**Objectives:**\r\n",
    "\r\n",
    "- List popular languages for Data Science  \r\n",
    "- Identify commonly used libraries in Data Science  \r\n",
    "- Introduce common Data Science development tools  \r\n",
    "- Perform basic arithmetic expressions using Python  \r\n",
    "- Convert units using Python code\r\n"
   ]
  },
  {
   "cell_type": "markdown",
   "id": "f366c958-72c5-4d09-b8cd-5c3bfa0974d5",
   "metadata": {},
   "source": [
    "## Author\r\n",
    "\r\n",
    "Shubham Singh\r\n"
   ]
  },
  {
   "cell_type": "code",
   "execution_count": null,
   "id": "aca115f8-505b-44e9-9057-6a6c74dfef8e",
   "metadata": {},
   "outputs": [],
   "source": []
  }
 ],
 "metadata": {
  "kernelspec": {
   "display_name": "Python 3 (ipykernel)",
   "language": "python",
   "name": "python3"
  },
  "language_info": {
   "codemirror_mode": {
    "name": "ipython",
    "version": 3
   },
   "file_extension": ".py",
   "mimetype": "text/x-python",
   "name": "python",
   "nbconvert_exporter": "python",
   "pygments_lexer": "ipython3",
   "version": "3.12.4"
  }
 },
 "nbformat": 4,
 "nbformat_minor": 5
}
